{
 "cells": [
  {
   "cell_type": "markdown",
   "metadata": {},
   "source": [
    "# aa"
   ]
  },
  {
   "cell_type": "code",
   "execution_count": 1,
   "metadata": {
    "execution": {
     "iopub.execute_input": "2024-09-05T08:52:39.508098Z",
     "iopub.status.busy": "2024-09-05T08:52:39.508098Z",
     "iopub.status.idle": "2024-09-05T08:52:39.513095Z",
     "shell.execute_reply": "2024-09-05T08:52:39.513095Z"
    }
   },
   "outputs": [],
   "source": [
    "#zhushi"
   ]
  }
 ],
 "metadata": {
  "language_info": {
   "codemirror_mode": {
    "name": "ipython",
    "version": 3
   },
   "file_extension": ".py",
   "mimetype": "text/x-python",
   "name": "python",
   "nbconvert_exporter": "python",
   "pygments_lexer": "ipython3",
   "version": "3.8.18"
  }
 },
 "nbformat": 4,
 "nbformat_minor": 2
}
